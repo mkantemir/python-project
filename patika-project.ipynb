{
  "nbformat": 4,
  "nbformat_minor": 0,
  "metadata": {
    "colab": {
      "provenance": [],
      "authorship_tag": "ABX9TyMrRCWmfFZq0mLmlQ9iEUu8"
    },
    "kernelspec": {
      "name": "python3",
      "display_name": "Python 3"
    },
    "language_info": {
      "name": "python"
    }
  },
  "cells": [
    {
      "cell_type": "code",
      "execution_count": 1,
      "metadata": {
        "id": "eQT350sB0Uww",
        "colab": {
          "base_uri": "https://localhost:8080/"
        },
        "outputId": "534db273-5f49-4988-a60c-d86fbed9f202"
      },
      "outputs": [
        {
          "output_type": "stream",
          "name": "stdout",
          "text": [
            "[[7, 6, 5], [4, 3], [2, 1]]\n"
          ]
        }
      ],
      "source": [
        "def ters_cevir(lst):\n",
        "    result=[]\n",
        "    for elem in lst:\n",
        "        if isinstance(elem, list):\n",
        "            result.append(elem[::-1])\n",
        "        else:\n",
        "            result.append(elem)\n",
        "  \n",
        "    return result[::-1]\n",
        "\n",
        "my_list = [[1, 2], [3, 4], [5, 6, 7]]\n",
        "ters_liste = ters_cevir(my_list)\n",
        "print(ters_liste)"
      ]
    },
    {
      "cell_type": "code",
      "source": [
        "def flatten(lst):\n",
        "    result = []\n",
        "    for elem in lst:\n",
        "        if isinstance(elem, list):\n",
        "            result.extend(flatten(elem))\n",
        "        else:\n",
        "            result.append(elem)\n",
        "    return result\n",
        "\n",
        "flatten( [[1,'a',['cat'],2],[[[3]],'dog'],4,5])"
      ],
      "metadata": {
        "colab": {
          "base_uri": "https://localhost:8080/"
        },
        "id": "bGL3IQJ6V0Ky",
        "outputId": "e7d87da9-af9b-47d0-d06f-60d6964d95d5"
      },
      "execution_count": 2,
      "outputs": [
        {
          "output_type": "execute_result",
          "data": {
            "text/plain": [
              "[1, 'a', 'cat', 2, 3, 'dog', 4, 5]"
            ]
          },
          "metadata": {},
          "execution_count": 2
        }
      ]
    }
  ]
}